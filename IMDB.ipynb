{
  "nbformat": 4,
  "nbformat_minor": 0,
  "metadata": {
    "colab": {
      "name": "IMDB.ipynb",
      "provenance": [],
      "include_colab_link": true
    },
    "kernelspec": {
      "name": "python3",
      "display_name": "Python 3"
    }
  },
  "cells": [
    {
      "cell_type": "markdown",
      "metadata": {
        "id": "view-in-github",
        "colab_type": "text"
      },
      "source": [
        "<a href=\"https://colab.research.google.com/github/sarthakvinayaka/NLP-Project/blob/master/IMDB.ipynb\" target=\"_parent\"><img src=\"https://colab.research.google.com/assets/colab-badge.svg\" alt=\"Open In Colab\"/></a>"
      ]
    },
    {
      "cell_type": "markdown",
      "metadata": {
        "id": "FQ44dSmKRhi0",
        "colab_type": "text"
      },
      "source": [
        "# Movie review Classifier"
      ]
    },
    {
      "cell_type": "code",
      "metadata": {
        "id": "1NuJoLWR8JYb",
        "colab_type": "code",
        "outputId": "98b3220f-5bfa-47e4-a51d-347de72f4fbd",
        "colab": {
          "base_uri": "https://localhost:8080/",
          "height": 34
        }
      },
      "source": [
        "import tensorflow as tf\n",
        "print(tf.__version__)"
      ],
      "execution_count": 1,
      "outputs": [
        {
          "output_type": "stream",
          "text": [
            "2.2.0-rc3\n"
          ],
          "name": "stdout"
        }
      ]
    },
    {
      "cell_type": "code",
      "metadata": {
        "id": "qKsdpwjp835l",
        "colab_type": "code",
        "colab": {}
      },
      "source": [
        "#Downloading imdb data set from tensorflow_datasets\n",
        "import tensorflow_datasets as tfds\n",
        "imdb,info=tfds.load(\"imdb_reviews\",with_info=True,as_supervised=True)"
      ],
      "execution_count": 0,
      "outputs": []
    },
    {
      "cell_type": "code",
      "metadata": {
        "id": "qZIVz4HP9zf2",
        "colab_type": "code",
        "colab": {}
      },
      "source": [
        "#spliting data set as train and test\n",
        "import numpy as np\n",
        "train_data,test_data=imdb['train'],imdb['test']\n"
      ],
      "execution_count": 0,
      "outputs": []
    },
    {
      "cell_type": "code",
      "metadata": {
        "id": "re_fDBElZYBD",
        "colab_type": "code",
        "colab": {}
      },
      "source": [
        "\n",
        "training_sentences=[]\n",
        "training_labels=[]\n",
        "testing_sentences=[]\n",
        "testing_labels=[]\n"
      ],
      "execution_count": 0,
      "outputs": []
    },
    {
      "cell_type": "code",
      "metadata": {
        "id": "p9mgDduVaK75",
        "colab_type": "code",
        "colab": {}
      },
      "source": [
        "#appending train and test data in our array\n",
        "for s,l in train_data:\n",
        "  training_sentences.append(str(s.numpy()))\n",
        "  training_labels.append(l.numpy())\n",
        "\n",
        "  \n",
        "for s,l in test_data:\n",
        "  testing_sentences.append(str(s.numpy()))\n",
        "  testing_labels.append(l.numpy())\n",
        "\n"
      ],
      "execution_count": 0,
      "outputs": []
    },
    {
      "cell_type": "code",
      "metadata": {
        "id": "8aHWo4fzF1Xr",
        "colab_type": "code",
        "colab": {
          "base_uri": "https://localhost:8080/",
          "height": 34
        },
        "outputId": "737902ae-f3cb-486d-e50c-406422d0e69c"
      },
      "source": [
        "print(np.shape(training_sentences))  "
      ],
      "execution_count": 6,
      "outputs": [
        {
          "output_type": "stream",
          "text": [
            "(25000,)\n"
          ],
          "name": "stdout"
        }
      ]
    },
    {
      "cell_type": "code",
      "metadata": {
        "id": "ignoTir0aaie",
        "colab_type": "code",
        "colab": {}
      },
      "source": [
        "#creating array of training label and testing label using numpy\n",
        "training_labels_final=np.array(training_labels)\n",
        "testing_labels_final=np.array(testing_labels)"
      ],
      "execution_count": 0,
      "outputs": []
    },
    {
      "cell_type": "code",
      "metadata": {
        "id": "tSKMaOC16Mne",
        "colab_type": "code",
        "outputId": "d844f51b-cf65-4d00-e890-57a54c93c866",
        "colab": {
          "base_uri": "https://localhost:8080/",
          "height": 51
        }
      },
      "source": [
        "print(np.shape(training_labels_final))\n",
        "print(np.shape(training_sentences))"
      ],
      "execution_count": 8,
      "outputs": [
        {
          "output_type": "stream",
          "text": [
            "(25000,)\n",
            "(25000,)\n"
          ],
          "name": "stdout"
        }
      ]
    },
    {
      "cell_type": "code",
      "metadata": {
        "id": "DZ1-m7WEa_CX",
        "colab_type": "code",
        "colab": {}
      },
      "source": [
        "#breaking each sentence to word and then utokenize the word with number and creating a array of it\n",
        "vocab_size=10000\n",
        "embedding_dim=16\n",
        "max_length=120\n",
        "trunc_type='post'\n",
        "oov_tok='<OOV>'\n",
        "\n",
        "from tensorflow.keras.preprocessing.text import Tokenizer\n",
        "from tensorflow.keras.preprocessing.sequence import pad_sequences\n",
        "\n",
        "tokenizer=Tokenizer(num_words=vocab_size,oov_token=oov_tok)\n",
        "tokenizer.fit_on_texts(training_sentences)\n",
        "word_index=tokenizer.word_index\n",
        "sequences=tokenizer.texts_to_sequences(training_sentences)\n",
        "padded=pad_sequences(sequences,maxlen=max_length,truncating=trunc_type)\n",
        "testing_sequences=tokenizer.texts_to_sequences(testing_sentences)\n",
        "testing_padded=pad_sequences(testing_sequences,maxlen=max_length)"
      ],
      "execution_count": 0,
      "outputs": []
    },
    {
      "cell_type": "markdown",
      "metadata": {
        "id": "6I2s_kBUQbgD",
        "colab_type": "text"
      },
      "source": [
        ""
      ]
    },
    {
      "cell_type": "code",
      "metadata": {
        "id": "X3p7echakRTq",
        "colab_type": "code",
        "colab": {}
      },
      "source": [
        "#building LSTM( special type of RNN ) Model using kearas and tensorflow\n",
        "model = tf.keras.Sequential([\n",
        "    tf.keras.layers.Embedding(vocab_size, embedding_dim, input_length=max_length),\n",
        "    tf.keras.layers.Bidirectional(tf.keras.layers.LSTM(32)),\n",
        "    tf.keras.layers.Dense(6, activation='relu'),\n",
        "    tf.keras.layers.Dense(1, activation='sigmoid')\n",
        "])\n",
        "model.compile(loss='binary_crossentropy',optimizer='adam',metrics=['accuracy'])\n",
        "    \n",
        " \n",
        "    "
      ],
      "execution_count": 0,
      "outputs": []
    },
    {
      "cell_type": "code",
      "metadata": {
        "id": "wArw9xrXnO68",
        "colab_type": "code",
        "outputId": "778c12a6-eac0-4ddf-93f1-b75a33c31b92",
        "colab": {
          "base_uri": "https://localhost:8080/",
          "height": 374
        }
      },
      "source": [
        "\n",
        "num_epochs = 10\n",
        "model.fit(padded, training_labels_final, epochs=num_epochs, validation_data=(testing_padded, testing_labels_final))"
      ],
      "execution_count": 21,
      "outputs": [
        {
          "output_type": "stream",
          "text": [
            "Epoch 1/10\n",
            "1563/1563 [==============================] - 162s 104ms/step - loss: 0.3799 - accuracy: 0.8235 - val_loss: 0.3651 - val_accuracy: 0.8424\n",
            "Epoch 2/10\n",
            "1563/1563 [==============================] - 158s 101ms/step - loss: 0.2048 - accuracy: 0.9249 - val_loss: 0.4137 - val_accuracy: 0.8347\n",
            "Epoch 3/10\n",
            "1563/1563 [==============================] - 152s 97ms/step - loss: 0.1276 - accuracy: 0.9564 - val_loss: 0.6526 - val_accuracy: 0.8211\n",
            "Epoch 4/10\n",
            "1563/1563 [==============================] - 152s 97ms/step - loss: 0.0769 - accuracy: 0.9744 - val_loss: 0.6615 - val_accuracy: 0.8162\n",
            "Epoch 5/10\n",
            "1563/1563 [==============================] - 130s 83ms/step - loss: 0.0423 - accuracy: 0.9860 - val_loss: 0.8238 - val_accuracy: 0.8184\n",
            "Epoch 6/10\n",
            "1563/1563 [==============================] - 137s 88ms/step - loss: 0.0287 - accuracy: 0.9907 - val_loss: 0.8605 - val_accuracy: 0.8126\n",
            "Epoch 7/10\n",
            "1563/1563 [==============================] - 134s 86ms/step - loss: 0.0226 - accuracy: 0.9925 - val_loss: 0.9201 - val_accuracy: 0.8180\n",
            "Epoch 8/10\n",
            "1563/1563 [==============================] - 136s 87ms/step - loss: 0.0182 - accuracy: 0.9942 - val_loss: 1.0597 - val_accuracy: 0.8151\n",
            "Epoch 9/10\n",
            "1563/1563 [==============================] - 143s 92ms/step - loss: 0.0154 - accuracy: 0.9949 - val_loss: 1.0906 - val_accuracy: 0.8182\n",
            "Epoch 10/10\n",
            "1563/1563 [==============================] - 131s 84ms/step - loss: 0.0106 - accuracy: 0.9963 - val_loss: 1.1178 - val_accuracy: 0.8137\n"
          ],
          "name": "stdout"
        },
        {
          "output_type": "execute_result",
          "data": {
            "text/plain": [
              "<tensorflow.python.keras.callbacks.History at 0x7efdc5772780>"
            ]
          },
          "metadata": {
            "tags": []
          },
          "execution_count": 21
        }
      ]
    },
    {
      "cell_type": "code",
      "metadata": {
        "id": "0WQ-iQOMpVnT",
        "colab_type": "code",
        "outputId": "13a3a4dc-a1ac-459d-a6b6-26ddd28928bf",
        "colab": {
          "base_uri": "https://localhost:8080/",
          "height": 34
        }
      },
      "source": [
        "sentence = \"boring\"\n",
        "sequence = tokenizer.texts_to_sequences([sentence])[0]\n",
        "\n",
        "sequence=pad_sequences([sequence],maxlen=120,padding='pre')\n",
        "k=model.predict_classes(sequence,verbose=0)\n",
        "if k==0:\n",
        "   print(\"Negative Review\")\n",
        "else:\n",
        "   print(\"Positive review\")"
      ],
      "execution_count": 23,
      "outputs": [
        {
          "output_type": "stream",
          "text": [
            "Negative Review\n"
          ],
          "name": "stdout"
        }
      ]
    },
    {
      "cell_type": "code",
      "metadata": {
        "id": "4lF7c4igkD0p",
        "colab_type": "code",
        "colab": {}
      },
      "source": [
        ""
      ],
      "execution_count": 0,
      "outputs": []
    }
  ]
}